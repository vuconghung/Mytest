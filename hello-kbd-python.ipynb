{
 "cells": [
  {
   "cell_type": "code",
   "execution_count": 4,
   "id": "2c3034f7",
   "metadata": {
    "_cell_guid": "b1076dfc-b9ad-4769-8c92-a6c4dae69d19",
    "_uuid": "8f2839f25d086af736a60e9eeb907d3b93b6e0e5",
    "papermill": {
     "duration": 0.888717,
     "end_time": "2024-06-06T04:09:12.183242",
     "exception": false,
     "start_time": "2024-06-06T04:09:11.294525",
     "status": "completed"
    },
    "tags": []
   },
   "outputs": [],
   "source": [
    "# This Python 3 environment comes with many helpful analytics libraries installed\n",
    "# It is defined by the kaggle/python Docker image: https://github.com/kaggle/docker-python\n",
    "# For example, here's several helpful packages to load\n",
    "\n",
    "import numpy as np # linear algebra\n",
    "import pandas as pd # data processing, CSV file I/O (e.g. pd.read_csv)\n",
    "\n",
    "# Input data files are available in the read-only \"../input/\" directory\n",
    "# For example, running this (by clicking run or pressing Shift+Enter) will list all files under the input directory\n",
    "\n",
    "import os\n",
    "for dirname, _, filenames in os.walk('/kaggle/input'):\n",
    "    for filename in filenames:\n",
    "        print(os.path.join(dirname, filename))\n",
    "\n",
    "# You can write up to 20GB to the current directory (/kaggle/working/) that gets preserved as output when you create a version using \"Save & Run All\" \n",
    "# You can also write temporary files to /kaggle/temp/, but they won't be saved outside of the current session"
   ]
  },
  {
   "cell_type": "code",
   "execution_count": 8,
   "id": "84fc84e6",
   "metadata": {
    "papermill": {
     "duration": 0.106807,
     "end_time": "2024-06-06T04:09:12.296093",
     "exception": false,
     "start_time": "2024-06-06T04:09:12.189286",
     "status": "completed"
    },
    "tags": []
   },
   "outputs": [
    {
     "name": "stdout",
     "output_type": "stream",
     "text": [
      "   ID  SquareFeet  Bedrooms  Bathrooms Neighborhood  YearBuilt          Price\n",
      "0   1      1686.0         2          3        Rural     1950.0  244716.345651\n",
      "1   2      1912.0         3          1        Urban     1970.0  213071.025103\n",
      "2   3      1011.0         5          1        Urban     2010.0   53282.098098\n",
      "3   4      2539.0         2          2        Rural     1956.0  248908.682853\n",
      "4   5      2313.0         4          1        Urban     1966.0  263133.076957\n"
     ]
    }
   ],
   "source": [
    "train_df = pd.read_csv('housing_price_train.csv')\n",
    "print(train_df.head())"
   ]
  },
  {
   "cell_type": "code",
   "execution_count": 10,
   "id": "1c3464bd",
   "metadata": {
    "papermill": {
     "duration": 0.026179,
     "end_time": "2024-06-06T04:09:12.327941",
     "exception": false,
     "start_time": "2024-06-06T04:09:12.301762",
     "status": "completed"
    },
    "tags": []
   },
   "outputs": [
    {
     "data": {
      "text/plain": [
       "ID              0\n",
       "SquareFeet      2\n",
       "Bedrooms        0\n",
       "Bathrooms       0\n",
       "Neighborhood    1\n",
       "YearBuilt       6\n",
       "Price           0\n",
       "dtype: int64"
      ]
     },
     "execution_count": 10,
     "metadata": {},
     "output_type": "execute_result"
    }
   ],
   "source": [
    "train_df.isna().sum()"
   ]
  },
  {
   "cell_type": "code",
   "execution_count": 12,
   "id": "60cd7cb9",
   "metadata": {
    "papermill": {
     "duration": 0.028952,
     "end_time": "2024-06-06T04:09:12.362699",
     "exception": false,
     "start_time": "2024-06-06T04:09:12.333747",
     "status": "completed"
    },
    "tags": []
   },
   "outputs": [
    {
     "name": "stdout",
     "output_type": "stream",
     "text": [
      "(39991, 7)\n"
     ]
    }
   ],
   "source": [
    "train_no_null_df = train_df.dropna()\n",
    "print(train_no_null_df.shape)"
   ]
  },
  {
   "cell_type": "code",
   "execution_count": 14,
   "id": "7708e53d",
   "metadata": {
    "papermill": {
     "duration": 0.033754,
     "end_time": "2024-06-06T04:09:12.402339",
     "exception": false,
     "start_time": "2024-06-06T04:09:12.368585",
     "status": "completed"
    },
    "tags": []
   },
   "outputs": [
    {
     "name": "stdout",
     "output_type": "stream",
     "text": [
      "   ID  SquareFeet  Bedrooms  Bathrooms Neighborhood  YearBuilt          Price  \\\n",
      "0   1      1686.0         2          3        Rural     1950.0  244716.345651   \n",
      "1   2      1912.0         3          1        Urban     1970.0  213071.025103   \n",
      "2   3      1011.0         5          1        Urban     2010.0   53282.098098   \n",
      "3   4      2539.0         2          2        Rural     1956.0  248908.682853   \n",
      "4   5      2313.0         4          1        Urban     1966.0  263133.076957   \n",
      "\n",
      "   Rural  Suburb  Urban  \n",
      "0      1       0      0  \n",
      "1      0       0      1  \n",
      "2      0       0      1  \n",
      "3      1       0      0  \n",
      "4      0       0      1  \n"
     ]
    }
   ],
   "source": [
    "one_hot_encoded = pd.get_dummies(train_no_null_df['Neighborhood'])\n",
    "one_hot_encoded=one_hot_encoded.astype(int)\n",
    "train_no_null_df = pd.concat([train_no_null_df, one_hot_encoded], axis=1)\n",
    "print(train_no_null_df.head())"
   ]
  },
  {
   "cell_type": "code",
   "execution_count": 16,
   "id": "8d96cc03",
   "metadata": {},
   "outputs": [
    {
     "data": {
      "text/plain": [
       "array(['Rural', 'Suburb', 'Urban'], dtype=object)"
      ]
     },
     "execution_count": 16,
     "metadata": {},
     "output_type": "execute_result"
    }
   ],
   "source": [
    "np.unique(train_no_null_df[\"Neighborhood\"])"
   ]
  },
  {
   "cell_type": "code",
   "execution_count": 18,
   "id": "aa689fab",
   "metadata": {
    "papermill": {
     "duration": 0.015576,
     "end_time": "2024-06-06T04:09:12.423885",
     "exception": false,
     "start_time": "2024-06-06T04:09:12.408309",
     "status": "completed"
    },
    "tags": []
   },
   "outputs": [],
   "source": [
    "# from sklearn.preprocessing import LabelEncoder\n",
    "\n",
    "# # Khai báo biến le làm nhiệm vụ encode (mã hóa)\n",
    "# le = LabelEncoder()\n",
    "\n",
    "# # Cho le biết những giá trị cần mã hóa\n",
    "# # mẫu: le.fit([\"paris\", \"paris\", \"tokyo\", \"amsterdam\"])\n",
    "# le.fit(train_no_null_df['Neighborhood'])\n",
    "# list(le.classes_)"
   ]
  },
  {
   "cell_type": "code",
   "execution_count": 20,
   "id": "6ef4b00c",
   "metadata": {
    "papermill": {
     "duration": 0.014513,
     "end_time": "2024-06-06T04:09:12.444534",
     "exception": false,
     "start_time": "2024-06-06T04:09:12.430021",
     "status": "completed"
    },
    "tags": []
   },
   "outputs": [],
   "source": [
    "# Mã hóa biến Neighborhood từ categorical thành biến Neighborhood_encoded dạng numerical\n",
    "# train_no_null_df['Neighborhood_encoded'] = le.transform(train_no_null_df['Neighborhood'])\n",
    "# print(train_no_null_df.head())"
   ]
  },
  {
   "cell_type": "code",
   "execution_count": 22,
   "id": "26d7b180",
   "metadata": {
    "papermill": {
     "duration": 0.017604,
     "end_time": "2024-06-06T04:09:12.468498",
     "exception": false,
     "start_time": "2024-06-06T04:09:12.450894",
     "status": "completed"
    },
    "tags": []
   },
   "outputs": [],
   "source": [
    "X = train_no_null_df[['SquareFeet', 'Bedrooms', 'Bathrooms', 'Rural', 'Suburb', 'Urban', 'YearBuilt']]\n",
    "y = train_no_null_df['Price']"
   ]
  },
  {
   "cell_type": "code",
   "execution_count": 24,
   "id": "a3c9bd90",
   "metadata": {
    "papermill": {
     "duration": 1.407927,
     "end_time": "2024-06-06T04:09:13.882588",
     "exception": false,
     "start_time": "2024-06-06T04:09:12.474661",
     "status": "completed"
    },
    "tags": []
   },
   "outputs": [
    {
     "name": "stdout",
     "output_type": "stream",
     "text": [
      "[ 9.93309819e+01  4.94943059e+03  2.68509061e+03 -4.29923395e+02\n",
      " -9.87142720e+02  1.41706612e+03  2.90394121e+00]\n",
      "-2786.7950643928198\n"
     ]
    }
   ],
   "source": [
    "from sklearn.linear_model import LinearRegression\n",
    "\n",
    "reg = LinearRegression().fit(X, y)\n",
    "\n",
    "print(reg.coef_)\n",
    "print(reg.intercept_)"
   ]
  },
  {
   "cell_type": "code",
   "execution_count": 26,
   "id": "320d247d",
   "metadata": {
    "papermill": {
     "duration": 0.04595,
     "end_time": "2024-06-06T04:09:13.941543",
     "exception": false,
     "start_time": "2024-06-06T04:09:13.895593",
     "status": "completed"
    },
    "tags": []
   },
   "outputs": [
    {
     "name": "stdout",
     "output_type": "stream",
     "text": [
      "      ID  SquareFeet  Bedrooms  Bathrooms Neighborhood  YearBuilt\n",
      "0  40001        1121         5          2        Urban       2004\n",
      "1  40002        1087         4          1        Urban       1976\n",
      "2  40003        2396         2          2       Suburb       1993\n",
      "3  40004        2687         5          1        Urban       1979\n",
      "4  40005        2685         4          3        Urban       1999\n"
     ]
    }
   ],
   "source": [
    "test_df = pd.read_csv('housing_price_test.csv')\n",
    "print(test_df.head())"
   ]
  },
  {
   "cell_type": "code",
   "execution_count": 28,
   "id": "73a4ad84",
   "metadata": {
    "papermill": {
     "duration": 0.027315,
     "end_time": "2024-06-06T04:09:13.975254",
     "exception": false,
     "start_time": "2024-06-06T04:09:13.947939",
     "status": "completed"
    },
    "tags": []
   },
   "outputs": [
    {
     "name": "stdout",
     "output_type": "stream",
     "text": [
      "      ID  SquareFeet  Bedrooms  Bathrooms Neighborhood  YearBuilt  Rural  \\\n",
      "0  40001        1121         5          2        Urban       2004      0   \n",
      "1  40002        1087         4          1        Urban       1976      0   \n",
      "2  40003        2396         2          2       Suburb       1993      0   \n",
      "3  40004        2687         5          1        Urban       1979      0   \n",
      "4  40005        2685         4          3        Urban       1999      0   \n",
      "\n",
      "   Suburb  Urban  \n",
      "0       0      1  \n",
      "1       0      1  \n",
      "2       1      0  \n",
      "3       0      1  \n",
      "4       0      1  \n"
     ]
    }
   ],
   "source": [
    "one_hot_encoded = pd.get_dummies(test_df['Neighborhood'])\n",
    "one_hot_encoded=one_hot_encoded.astype(int)\n",
    "test_df = pd.concat([test_df, one_hot_encoded], axis=1)\n",
    "print(test_df.head())"
   ]
  },
  {
   "cell_type": "code",
   "execution_count": 30,
   "id": "c3b53e3a",
   "metadata": {
    "papermill": {
     "duration": 0.028902,
     "end_time": "2024-06-06T04:09:14.010623",
     "exception": false,
     "start_time": "2024-06-06T04:09:13.981721",
     "status": "completed"
    },
    "tags": []
   },
   "outputs": [
    {
     "name": "stdout",
     "output_type": "stream",
     "text": [
      "[145917.13408975 134824.04915512 255279.69203265 ... 228675.27115887\n",
      " 290525.26403451 191573.83560349]\n"
     ]
    }
   ],
   "source": [
    "# # Mã hóa biến Neighborhood từ categorical thành biến Neighborhood_encoded dạng numerical\n",
    "# test_df['Neighborhood_encoded'] = le.transform(test_df['Neighborhood'])\n",
    "# print(test_df.head())\n",
    "\n",
    "X_test = test_df[['SquareFeet', 'Bedrooms', 'Bathrooms', 'Rural', 'Suburb', 'Urban', 'YearBuilt']]\n",
    "\n",
    "y_pred = reg.predict(X_test)\n",
    "print(y_pred)"
   ]
  },
  {
   "cell_type": "code",
   "execution_count": 32,
   "id": "b67aa745",
   "metadata": {
    "papermill": {
     "duration": 3.155331,
     "end_time": "2024-06-06T04:09:17.179306",
     "exception": false,
     "start_time": "2024-06-06T04:09:14.023975",
     "status": "completed"
    },
    "tags": []
   },
   "outputs": [
    {
     "name": "stdout",
     "output_type": "stream",
     "text": [
      "[(40001, 145917.13408975204), (40002, 134824.04915512382), (40003, 255279.6920326512), (40004, 298711.76258470374), (40005, 298991.93006731593)]\n"
     ]
    }
   ],
   "source": [
    "results = []\n",
    "for i in range(len(y_pred)):\n",
    "    results.append((test_df['ID'].tolist()[i], y_pred[i]))\n",
    "    \n",
    "print(results[:5])"
   ]
  },
  {
   "cell_type": "code",
   "execution_count": 34,
   "id": "e045e386",
   "metadata": {
    "papermill": {
     "duration": 0.062221,
     "end_time": "2024-06-06T04:09:17.248941",
     "exception": false,
     "start_time": "2024-06-06T04:09:17.186720",
     "status": "completed"
    },
    "tags": []
   },
   "outputs": [],
   "source": [
    "results_df = pd.DataFrame(results, columns=['ID', 'Price'])\n",
    "results_df.to_csv('submission.csv', index=False)"
   ]
  },
  {
   "cell_type": "code",
   "execution_count": 36,
   "id": "606f0f9c",
   "metadata": {},
   "outputs": [],
   "source": [
    "import pickle # thư viện  giúp lưu trữ mô hình\n",
    "filename = 'model_house.sav'\n",
    "pickle.dump(reg, open(filename, 'wb'))"
   ]
  },
  {
   "cell_type": "code",
   "execution_count": 40,
   "id": "1dfa0087",
   "metadata": {},
   "outputs": [
    {
     "name": "stdout",
     "output_type": "stream",
     "text": [
      "<class 'pandas.core.frame.DataFrame'>\n",
      "(1, 7)\n",
      "Dựa đoán là: [221057.46842309]\n"
     ]
    },
    {
     "name": "stderr",
     "output_type": "stream",
     "text": [
      "C:\\Users\\PT\\anaconda3\\Lib\\site-packages\\sklearn\\base.py:439: UserWarning: X does not have valid feature names, but LinearRegression was fitted with feature names\n",
      "  warnings.warn(\n"
     ]
    }
   ],
   "source": [
    "loaded_model = pickle.load(open(filename, 'rb'))\n",
    "x = pd.DataFrame([[2000,3,4,0,1,0,200]])\n",
    "print(type(x))\n",
    "print(x.shape)\n",
    "y_pred = loaded_model.predict(x)\n",
    "print('Dựa đoán là:',y_pred)"
   ]
  },
  {
   "cell_type": "code",
   "execution_count": null,
   "id": "b5be6787",
   "metadata": {},
   "outputs": [],
   "source": []
  }
 ],
 "metadata": {
  "kaggle": {
   "accelerator": "none",
   "dataSources": [
    {
     "databundleVersionId": 8763979,
     "sourceId": 81166,
     "sourceType": "competition"
    }
   ],
   "dockerImageVersionId": 30732,
   "isGpuEnabled": false,
   "isInternetEnabled": true,
   "language": "python",
   "sourceType": "notebook"
  },
  "kernelspec": {
   "display_name": "Python 3 (ipykernel)",
   "language": "python",
   "name": "python3"
  },
  "language_info": {
   "codemirror_mode": {
    "name": "ipython",
    "version": 3
   },
   "file_extension": ".py",
   "mimetype": "text/x-python",
   "name": "python",
   "nbconvert_exporter": "python",
   "pygments_lexer": "ipython3",
   "version": "3.11.7"
  },
  "papermill": {
   "default_parameters": {},
   "duration": 9.471028,
   "end_time": "2024-06-06T04:09:17.777290",
   "environment_variables": {},
   "exception": null,
   "input_path": "__notebook__.ipynb",
   "output_path": "__notebook__.ipynb",
   "parameters": {},
   "start_time": "2024-06-06T04:09:08.306262",
   "version": "2.5.0"
  }
 },
 "nbformat": 4,
 "nbformat_minor": 5
}
